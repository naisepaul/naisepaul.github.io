{
 "cells": [
  {
   "cell_type": "markdown",
   "metadata": {
    "collapsed": true
   },
   "source": [
    "# Naise Paul--- 10345047"
   ]
  },
  {
   "cell_type": "markdown",
   "metadata": {},
   "source": [
    "1. Bayes theorem practice Use Bayes theorem to solve the following problem: \n",
    " \n",
    "A woman takes either the bus or taxi to her job. 2/3rds of the time she takes the bus to work, and 1/3rd of the time she takes a taxi. If she takes a taxi, she is at work on time with probability 0.99. If she takes bus, she is at work on time with probability 0.85. Given that she was on time on a particular morning, what is the probability that she took a taxi that morning? \n",
    " \n",
    "Show your calculations. \n",
    "Showing your workings, calculate the right answer in your notebook (10 marks) "
   ]
  },
  {
   "cell_type": "code",
   "execution_count": 1,
   "metadata": {
    "collapsed": false
   },
   "outputs": [
    {
     "name": "stdout",
     "output_type": "stream",
     "text": [
      "0.368\n"
     ]
    }
   ],
   "source": [
    "# Bayers Theorm P(H/E)=P(E/H)*P(H)/P(E)\n",
    "\n",
    "probability_taxi_ontime =.99   #P(E1/H1)\n",
    "probability_taking_taxi = .3333  # P(H1) = 1/3\n",
    "\n",
    "probability_bus_ontime  = .85  # P(E2/H2)\n",
    "probility_taking_bus    = .6666  # P(E2) = 2/3\n",
    "\n",
    "probability_ontime_taxi = (probability_taxi_ontime*probability_taking_taxi)/((probability_taxi_ontime*probability_taking_taxi)+(probability_bus_ontime*probility_taking_bus ))\n",
    "# P(H1/E1) = P(E1/H1)/(P(E1/H1)+P(E2/H2))\n",
    "\n",
    "print round(probability_ontime_taxi,3)"
   ]
  },
  {
   "cell_type": "markdown",
   "metadata": {},
   "source": [
    "2. Elementary inference of the parameters of a normal \n",
    " \n",
    "Using PYMC, calculate the posterior values for mean height and some measure of deviation, each of men and women using this dataset:   https://github.com/rmcelreath/rethinking/blob/master/data/Howell1.csv \n",
    " \n",
    "Plot the posterior mean and deviation for men and for women. \n",
    " "
   ]
  },
  {
   "cell_type": "code",
   "execution_count": 2,
   "metadata": {
    "collapsed": false
   },
   "outputs": [],
   "source": [
    "%matplotlib inline\n",
    "import pymc as pm\n",
    "import numpy as np\n",
    "import pandas as pd\n",
    "from scipy import stats\n",
    "from scipy.interpolate import griddata\n",
    "import matplotlib.pyplot as plt\n",
    "import seaborn as sns"
   ]
  },
  {
   "cell_type": "code",
   "execution_count": 3,
   "metadata": {
    "collapsed": false
   },
   "outputs": [
    {
     "data": {
      "text/html": [
       "<div>\n",
       "<table border=\"1\" class=\"dataframe\">\n",
       "  <thead>\n",
       "    <tr style=\"text-align: right;\">\n",
       "      <th></th>\n",
       "      <th>height</th>\n",
       "      <th>weight</th>\n",
       "      <th>age</th>\n",
       "      <th>male</th>\n",
       "    </tr>\n",
       "  </thead>\n",
       "  <tbody>\n",
       "    <tr>\n",
       "      <th>0</th>\n",
       "      <td>151.765</td>\n",
       "      <td>47.825606</td>\n",
       "      <td>63.0</td>\n",
       "      <td>1</td>\n",
       "    </tr>\n",
       "    <tr>\n",
       "      <th>1</th>\n",
       "      <td>139.700</td>\n",
       "      <td>36.485807</td>\n",
       "      <td>63.0</td>\n",
       "      <td>0</td>\n",
       "    </tr>\n",
       "    <tr>\n",
       "      <th>2</th>\n",
       "      <td>136.525</td>\n",
       "      <td>31.864838</td>\n",
       "      <td>65.0</td>\n",
       "      <td>0</td>\n",
       "    </tr>\n",
       "    <tr>\n",
       "      <th>3</th>\n",
       "      <td>156.845</td>\n",
       "      <td>53.041915</td>\n",
       "      <td>41.0</td>\n",
       "      <td>1</td>\n",
       "    </tr>\n",
       "    <tr>\n",
       "      <th>4</th>\n",
       "      <td>145.415</td>\n",
       "      <td>41.276872</td>\n",
       "      <td>51.0</td>\n",
       "      <td>0</td>\n",
       "    </tr>\n",
       "  </tbody>\n",
       "</table>\n",
       "</div>"
      ],
      "text/plain": [
       "    height     weight   age  male\n",
       "0  151.765  47.825606  63.0     1\n",
       "1  139.700  36.485807  63.0     0\n",
       "2  136.525  31.864838  65.0     0\n",
       "3  156.845  53.041915  41.0     1\n",
       "4  145.415  41.276872  51.0     0"
      ]
     },
     "execution_count": 3,
     "metadata": {},
     "output_type": "execute_result"
    }
   ],
   "source": [
    "data = pd.read_csv('C:\\Users\\Naise\\OneDrive\\DBS\\9 Advanced Analytics\\CA\\Ca2\\Howell1.csv', sep=';')\n",
    "data.head()"
   ]
  },
  {
   "cell_type": "code",
   "execution_count": 4,
   "metadata": {
    "collapsed": false
   },
   "outputs": [
    {
     "data": {
      "text/html": [
       "<div>\n",
       "<table border=\"1\" class=\"dataframe\">\n",
       "  <thead>\n",
       "    <tr style=\"text-align: right;\">\n",
       "      <th></th>\n",
       "      <th>height</th>\n",
       "      <th>weight</th>\n",
       "      <th>age</th>\n",
       "      <th>male</th>\n",
       "    </tr>\n",
       "  </thead>\n",
       "  <tbody>\n",
       "    <tr>\n",
       "      <th>count</th>\n",
       "      <td>544.000000</td>\n",
       "      <td>544.000000</td>\n",
       "      <td>544.000000</td>\n",
       "      <td>544.000000</td>\n",
       "    </tr>\n",
       "    <tr>\n",
       "      <th>mean</th>\n",
       "      <td>138.263596</td>\n",
       "      <td>35.610618</td>\n",
       "      <td>29.344393</td>\n",
       "      <td>0.472426</td>\n",
       "    </tr>\n",
       "    <tr>\n",
       "      <th>std</th>\n",
       "      <td>27.602448</td>\n",
       "      <td>14.719178</td>\n",
       "      <td>20.746888</td>\n",
       "      <td>0.499699</td>\n",
       "    </tr>\n",
       "    <tr>\n",
       "      <th>min</th>\n",
       "      <td>53.975000</td>\n",
       "      <td>4.252425</td>\n",
       "      <td>0.000000</td>\n",
       "      <td>0.000000</td>\n",
       "    </tr>\n",
       "    <tr>\n",
       "      <th>25%</th>\n",
       "      <td>125.095000</td>\n",
       "      <td>22.007717</td>\n",
       "      <td>12.000000</td>\n",
       "      <td>0.000000</td>\n",
       "    </tr>\n",
       "    <tr>\n",
       "      <th>50%</th>\n",
       "      <td>148.590000</td>\n",
       "      <td>40.057844</td>\n",
       "      <td>27.000000</td>\n",
       "      <td>0.000000</td>\n",
       "    </tr>\n",
       "    <tr>\n",
       "      <th>75%</th>\n",
       "      <td>157.480000</td>\n",
       "      <td>47.209005</td>\n",
       "      <td>43.000000</td>\n",
       "      <td>1.000000</td>\n",
       "    </tr>\n",
       "    <tr>\n",
       "      <th>max</th>\n",
       "      <td>179.070000</td>\n",
       "      <td>62.992589</td>\n",
       "      <td>88.000000</td>\n",
       "      <td>1.000000</td>\n",
       "    </tr>\n",
       "  </tbody>\n",
       "</table>\n",
       "</div>"
      ],
      "text/plain": [
       "           height      weight         age        male\n",
       "count  544.000000  544.000000  544.000000  544.000000\n",
       "mean   138.263596   35.610618   29.344393    0.472426\n",
       "std     27.602448   14.719178   20.746888    0.499699\n",
       "min     53.975000    4.252425    0.000000    0.000000\n",
       "25%    125.095000   22.007717   12.000000    0.000000\n",
       "50%    148.590000   40.057844   27.000000    0.000000\n",
       "75%    157.480000   47.209005   43.000000    1.000000\n",
       "max    179.070000   62.992589   88.000000    1.000000"
      ]
     },
     "execution_count": 4,
     "metadata": {},
     "output_type": "execute_result"
    }
   ],
   "source": [
    "data.describe()"
   ]
  },
  {
   "cell_type": "code",
   "execution_count": 57,
   "metadata": {
    "collapsed": false
   },
   "outputs": [
    {
     "data": {
      "text/plain": [
       "1    139.700\n",
       "2    136.525\n",
       "4    145.415\n",
       "6    149.225\n",
       "8    147.955\n",
       "Name: height, dtype: float64"
      ]
     },
     "execution_count": 57,
     "metadata": {},
     "output_type": "execute_result"
    }
   ],
   "source": [
    "d1 = data[data.male == 0]\n",
    "d2 =data[data.male == 1]\n",
    "d1.height.head()\n",
    "#d2.head()"
   ]
  },
  {
   "cell_type": "code",
   "execution_count": 58,
   "metadata": {
    "collapsed": false
   },
   "outputs": [
    {
     "data": {
      "image/png": "[encoded data removed]",
      "text/plain": [
       "<matplotlib.figure.Figure at 0xaecd1d0>"
      ]
     },
     "metadata": {},
     "output_type": "display_data"
    }
   ],
   "source": [
    "sns.distplot(d1.height, label='Female')\n",
    "sns.distplot(d2.height, label='Male')\n",
    "plt.legend();"
   ]
  },
  {
   "cell_type": "code",
   "execution_count": 59,
   "metadata": {
    "collapsed": false
   },
   "outputs": [
    {
     "name": "stdout",
     "output_type": "stream",
     "text": [
      " [-----------------100%-----------------] 11000 of 11000 complete in 1.9 sec"
     ]
    },
    {
     "data": {
      "image/png": "[encoded data removed]",
      "text/plain": [
       "<matplotlib.figure.Figure at 0xcbff6f0>"
      ]
     },
     "metadata": {},
     "output_type": "display_data"
    }
   ],
   "source": [
    "\n",
    "y = d1.height\n",
    "\n",
    "# define priors\n",
    "mu = pm.Uniform('mu', lower=0, upper=200)\n",
    "tau = pm.Uniform('tau', lower=0, upper=2)\n",
    "\n",
    "# define likelihood\n",
    "y_obs = pm.Normal('Y_obs', mu=mu, tau=tau, value=y, observed=True)\n",
    "\n",
    "# inference\n",
    "m = pm.Model([mu, tau, y])\n",
    "mc = pm.MCMC(m)\n",
    "mc.sample(iter=11000, burn=10000)\n",
    "plt.figure(figsize=(10,4));\n",
    "plt.subplot(121)\n",
    "plt.hist(mu.trace(),  histtype='step', normed=True, label='post');\n",
    "plt.legend(loc='best');\n",
    "plt.subplot(122)\n",
    "plt.hist(np.sqrt(1.0/tau.trace()), 15, histtype='step', normed=True, label='post');\n",
    "plt.legend(loc='best');"
   ]
  },
  {
   "cell_type": "code",
   "execution_count": 60,
   "metadata": {
    "collapsed": false
   },
   "outputs": [
    {
     "name": "stdout",
     "output_type": "stream",
     "text": [
      " [-----------------100%-----------------] 11000 of 11000 complete in 1.9 sec"
     ]
    },
    {
     "data": {
      "image/png": "[encoded data removed]",
      "text/plain": [
       "<matplotlib.figure.Figure at 0xcc15830>"
      ]
     },
     "metadata": {},
     "output_type": "display_data"
    }
   ],
   "source": [
    "y = d2.height\n",
    "\n",
    "# define priors\n",
    "mu = pm.Uniform('mu', lower=0, upper=200)\n",
    "tau = pm.Uniform('tau', lower=0, upper=2)\n",
    "\n",
    "# define likelihood\n",
    "y_obs = pm.Normal('Y_obs', mu=mu, tau=tau, value=y, observed=True)\n",
    "\n",
    "# inference\n",
    "m = pm.Model([mu, tau, y])\n",
    "mc = pm.MCMC(m)\n",
    "mc.sample(iter=11000, burn=10000)\n",
    "plt.figure(figsize=(10,4));\n",
    "plt.subplot(121)\n",
    "plt.hist(mu.trace(),  histtype='step', normed=True, label='post');\n",
    "plt.legend(loc='best');\n",
    "plt.subplot(122)\n",
    "plt.hist(np.sqrt(1.0/tau.trace()), 15, histtype='step', normed=True, label='post');\n",
    "plt.legend(loc='best');"
   ]
  },
  {
   "cell_type": "code",
   "execution_count": null,
   "metadata": {
    "collapsed": true
   },
   "outputs": [],
   "source": []
  }
 ],
 "metadata": {
  "anaconda-cloud": {},
  "kernelspec": {
   "display_name": "Python [Root]",
   "language": "python",
   "name": "Python [Root]"
  },
  "language_info": {
   "codemirror_mode": {
    "name": "ipython",
    "version": 2
   },
   "file_extension": ".py",
   "mimetype": "text/x-python",
   "name": "python",
   "nbconvert_exporter": "python",
   "pygments_lexer": "ipython2",
   "version": "2.7.11"
  }
 },
 "nbformat": 4,
 "nbformat_minor": 0
}
